{
 "cells": [
  {
   "cell_type": "markdown",
   "metadata": {},
   "source": [
    "<h1 align=\"center\"><b>Opening a bubble tea shop in Paris</b></h1>"
   ]
  },
  {
   "cell_type": "markdown",
   "metadata": {},
   "source": [
    "<h2 align=\"center\">Julia GAU</h2>"
   ]
  },
  {
   "cell_type": "markdown",
   "metadata": {},
   "source": [
    "<h3 align=\"center\">January 2021</h3>"
   ]
  },
  {
   "cell_type": "markdown",
   "metadata": {},
   "source": [
    "<img style=\"text-align: center\" src=\"bbtea.png\"/>"
   ]
  },
  {
   "cell_type": "markdown",
   "metadata": {},
   "source": [
    "<h1>1. Introduction</h1>\n",
    "\n",
    "<h2>1.1 Background</h2>  \n",
    "\n",
    "<p style=\"text-align: justify\">Paris, capital of France, is one of the most visited cities in the world. In 2019, it had no less than 50.6 million tourists. But since 2020, because of covid-19, the number has dropped significantly. However, a trend has settled in recent years around Asian culture, especially around a drink of Taiwanese origin which is bubble tea.</p>\n",
    "\n",
    "<h2>1.2 Problem</h2>\n",
    "\n",
    "<p style=\"text-align: justify\">The number of bubble tea shops has continued to increase. Nevertheless, these shops are concentrated in certain places of the capital. The goal of this project is to find out where we could set up a bubble tea shop and make it profitable.</p>\n",
    "\n",
    "<h2>1.3 Interest</h2>\n",
    "\n",
    "<p style=\"text-align: justify\">The interest is especially for people who are fans of this drink. Indeed, they would be happy to have one just a few minutes from home and will therefore be able to get there on foot or by bike and that they will not have to take public transport for example 30 min to find a bubble tea.</p>"
   ]
  },
  {
   "cell_type": "markdown",
   "metadata": {},
   "source": [
    "# 2. Data acquisition and cleaning\n",
    "\n",
    "## 2.1 Data acquisition\n",
    "\n",
    "<p style=\"text-align: justify\">To realize this project, I need the borough of Paris, the number of population per arrondissement which can be found on wikipedia : <a href=\"https://fr.wikipedia.org/wiki/Arrondissements_de_Paris#R%C3%A9partition_de_la_population\">Click here</a>. But also geographical coordinates for each of them. For this I will use the geocoder class from the Geopy library. Then, I need coordinates where I can find on opendatasoft : <a href=\"https://public.opendatasoft.com/explore/dataset/arrondissements-millesimes0/table/?refine.dpartement=PARIS&dataChart=eyJxdWVyaWVzIjpbeyJjb25maWciOnsiZGF0YXNldCI6ImFycm9uZGlzc2VtZW50cy1taWxsZXNpbWVzMCIsIm9wdGlvbnMiOnsicmVmaW5lLmRwYXJ0ZW1lbnQiOiJQQVJJUyJ9fSwiY2hhcnRzIjpbeyJhbGlnbk1vbnRoIjp0cnVlLCJ0eXBlIjoiY29sdW1uIiwiZnVuYyI6IkFWRyIsInlBeGlzIjoiY29kZV9jb21tdW5lIiwic2NpZW50aWZpY0Rpc3BsYXkiOnRydWUsImNvbG9yIjoiI0ZGNTE1QSJ9XSwieEF4aXMiOiJjb2RlX2luc2VlIiwibWF4cG9pbnRzIjo1MCwic29ydCI6IiJ9XSwidGltZXNjYWxlIjoiIiwiZGlzcGxheUxlZ2VuZCI6dHJ1ZSwiYWxpZ25Nb250aCI6dHJ1ZX0%3D\">here</a>. In addition, I use Foursquare API venues explore method to get the venues of given neighborhoods of Paris. Also, I can filter these venues to get only bubble tea shops.</p>\n",
    "\n",
    "## 2.2 Data cleaning\n",
    "\n",
    "<p style=\"text-align: justify\">I am going to remove the features density, area and in the names column, the information that is in brackets because it may cause errors when I will make a join of this data with geographical coordinates and also rename each column name in English.</p>\n",
    "\n",
    "\n",
    "## 2.3 Feature selection\n",
    "\n",
    "<p style=\"text-align: justify\">I am only going to use the data concerning the districts as well as their names but also the population for the year 2017 since I do not have the data for the year 2020. The data on the population of each district but also a ranking of the bourough where I would find similarities, I will use venue list category to find distribution of bubble tea shops in neighborhood will allow me to know where it would be wise to place the bubble tea shop.</p>\n"
   ]
  },
  {
   "cell_type": "markdown",
   "metadata": {},
   "source": [
    "# 3. Methodology\n",
    "\n",
    "<p style=\"text-align: justify\">When importing the data, I was faced with a multiindex array. Therefore, I transformed the table (taken from Wikipedia) with a single index. Then, I deleted the columns that I didn't need, namely: superficie, population before 2017 and density. I noticed that there were rows  such as Bois de Boulogne, Bois de Vincennes and Ville de Paris containing empty cells so I removed them because it takes a full data set. I renamed the Arr. columns in borough, name in neighborhoord and 2017 in population. I also deleted in some boxes because there will be problems when merging (primary key: neighborhood) with geo coordinates from opendatasoft. I have also added a map to show you the different arrondissements of Paris. For instance, when you click on red circle you can see information about this borough (borough, neighborhood and population).<br></br>\n",
    "<img style=\"text-align: center\" src=\"borough_paris.png\"/> </br></br>\n",
    "Then I use the Foursquare API to find the different types of categories (for example: Japanese restaurant) present in each district of Paris. Then, I filtered through the tea rooms, restaurants, juice bars and shops because bubble tea is provided in each of these categories to find out the number of bubble tea shops open in Paris. Then, I counted the number of bubble tea shops by district to find out because they did not have one. As we can see below: </br></br>\n",
    "<img style=\"text-align: center\" src=\"nb_bbtea.png\"/> </br></br>\n",
    "Finally, I created clusters to find out more precisely the number of bubble tea shops opened per cluster.</br></br>\n",
    "<img style=\"text-align: center\" src=\"borough_paris_cluster.png\"/> </br></br>"
   ]
  },
  {
   "cell_type": "markdown",
   "metadata": {},
   "source": [
    "# 4. Results & discussion\n",
    "\n",
    "<p style=\"text-align: justify\">Through the various stages carried out, I was able to observe that out of 846 restaurants, shops, tea rooms, we have 22 bubble tea shops, which represents 2.6% of these categories. In addition, 10 of the 20 districts of Paris do not have bubble tea shops. </p>\n",
    "<p style=\"text-align: justify\">From the histogram, we can see that there are 10 out of 20 neighborhoods, i.e. 1 in 2 neighborhoods have at least one bubble tea shop.</p>\n",
    "<p style=\"text-align: justify\">Then, I wanted to see in each cluster the number of bubble tea present and the boroughs where we could set up a bubble tea shop:</p>\n",
    "\n",
    "⋅ Cluster 0 (red): Reuilly<br>\n",
    "⋅ Cluster 1 (purple): Obersvatoire, Batignolles-Monceau, Passy, Vaugirard<br>\n",
    "⋅ Cluster 2 (blue): Luxembourg, Opéra, Elysée, Hôtel-de-Ville<br>\n",
    "⋅ Cluster 3 (green): Ménilmontant<br>\n",
    "⋅ Cluster 4 (orange): None<br>\n"
   ]
  },
  {
   "cell_type": "markdown",
   "metadata": {},
   "source": [
    "# 5. Conclusion\n",
    "\n",
    "<p style = \"text-align: justify\"> According to the results obtained, it would be more judicious to place a bubble tea shop per cluster to know the affluence they can produce. For clusters with more than one borough that does not have a bubble tea shop, we choose one at random. </p>\n",
    "<p style = \"text-align: justify\"> In the near future, I will add more precisely in which streets I could place them and also add but also to place the bubble tea shops in the boroughs where there were none and remove those that are not profitable. </p>"
   ]
  }
 ],
 "metadata": {
  "kernelspec": {
   "display_name": "Python 3",
   "language": "python",
   "name": "python3"
  },
  "language_info": {
   "codemirror_mode": {
    "name": "ipython",
    "version": 3
   },
   "file_extension": ".py",
   "mimetype": "text/x-python",
   "name": "python",
   "nbconvert_exporter": "python",
   "pygments_lexer": "ipython3",
   "version": "3.7.3"
  }
 },
 "nbformat": 4,
 "nbformat_minor": 4
}
