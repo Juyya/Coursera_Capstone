{
 "cells": [
  {
   "cell_type": "markdown",
   "metadata": {},
   "source": [
    "<h1 align=\"center\"><b>Capstone Project - The Battle of Neighborhoods</b></h1>"
   ]
  },
  {
   "cell_type": "markdown",
   "metadata": {},
   "source": [
    "<h1 align=\"center\"><b>Opening a bubble tea shop in Paris</b></h1>"
   ]
  },
  {
   "cell_type": "markdown",
   "metadata": {},
   "source": [
    "<h2 align=\"center\">Julia GAU</h2>"
   ]
  },
  {
   "cell_type": "markdown",
   "metadata": {},
   "source": [
    "<h3 align=\"center\">January 2021</h3>"
   ]
  },
  {
   "cell_type": "markdown",
   "metadata": {},
   "source": [
    "<img style=\"text-align: center\" src=\"bbtea.png\"/>"
   ]
  },
  {
   "cell_type": "markdown",
   "metadata": {},
   "source": [
    "<h1>1. Introduction</h1>\n",
    "\n",
    "<h2>1.1 Background</h2>  \n",
    "\n",
    "<p style=\"text-align: justify\">Paris, capital of France, is one of the most visited cities in the world. In 2019, it had no less than 50.6 million tourists. But since 2020, because of covid-19, the number has dropped significantly. However, a trend has settled in recent years around Asian culture, especially around a drink of Taiwanese origin which is bubble tea.</p>\n",
    "\n",
    "<h2>1.2 Problem</h2>\n",
    "\n",
    "<p style=\"text-align: justify\">The number of bubble tea shops has continued to increase. Nevertheless, these shops are concentrated in certain places of the capital. The goal of this project is to find out where we could set up a bubble tea shop and make it profitable.</p>\n",
    "\n",
    "<h2>1.3 Interest</h2>\n",
    "\n",
    "<p style=\"text-align: justify\">The interest is especially for people who are fans of this drink. Indeed, they would be happy to have one just a few minutes from home and will therefore be able to get there on foot or by bike and that they will not have to take public transport for example 30 min to find a bubble tea.</p>"
   ]
  },
  {
   "cell_type": "markdown",
   "metadata": {},
   "source": [
    "<h1>2. Data acquisition and cleaning</h1>\n",
    "\n",
    "<h2>2.1 Data acquisition</h2>\n",
    "\n",
    "<p style=\"text-align: justify\">To realize this project, I need the borough of Paris, the number of population per arrondissement which can be found on wikipedia : <a href=\"https://fr.wikipedia.org/wiki/Arrondissements_de_Paris#R%C3%A9partition_de_la_population\">Click here</a>. But also geographical coordinates for each of them. For this I will use the geocoder class from the Geopy library. In addition, I use Foursquare API venues explore method to get the venues of given neighborhoods of Paris. Also, I can filter these venues to get only bubble tea shops.</p>\n",
    "\n",
    "<h2>2.2 Data cleaning</h2>\n",
    "\n",
    "<p style=\"text-align: justify\">I am going to remove the features density, area and in the names column, the information that is in brackets because it may cause errors when I will make a join of this data with geographical coordinates and also rename each column name in English.</p>\n",
    "\n",
    "\n",
    "<h2>2.3 Feature selection</h2>\n",
    "\n",
    "<p style=\"text-align: justify\">I am only going to use the data concerning the districts as well as their names but also the population for the year 2017 since I do not have the data for the year 2020. The data on the population of each district but also a ranking of the bourough where I would find similarities, I will use venue list category to find distribution of bubble tea shops, ratings and likes in neighborhood will allow me to know where it would be wise to place the bubble tea shop.</p>\n"
   ]
  }
 ],
 "metadata": {
  "kernelspec": {
   "display_name": "Python 3",
   "language": "python",
   "name": "python3"
  },
  "language_info": {
   "codemirror_mode": {
    "name": "ipython",
    "version": 3
   },
   "file_extension": ".py",
   "mimetype": "text/x-python",
   "name": "python",
   "nbconvert_exporter": "python",
   "pygments_lexer": "ipython3",
   "version": "3.7.3"
  }
 },
 "nbformat": 4,
 "nbformat_minor": 4
}
